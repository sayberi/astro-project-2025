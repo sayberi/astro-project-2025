{
 "cells": [
  {
   "cell_type": "code",
   "execution_count": 1,
   "id": "4e041929-1f3e-4846-9393-41c7577bdbeb",
   "metadata": {},
   "outputs": [],
   "source": [
    "import numpy as np\n",
    "import matplotlib.pyplot as plt\n",
    "import scipy as sp\n",
    "import mpmath as mp\n",
    "\n",
    "%matplotlib inline\n",
    "\n",
    "np.set_printoptions(linewidth=150)    #usado para as matrizes serem mais legíveis quando fizer print"
   ]
  },
  {
   "cell_type": "markdown",
   "id": "1bf5df12-c7a7-4b1c-9626-2086634b956e",
   "metadata": {},
   "source": [
    "# **Criação de gráficos**"
   ]
  },
  {
   "cell_type": "markdown",
   "id": "f6263754-9d20-4b9d-84a4-69f050cac7e6",
   "metadata": {},
   "source": [
    "## - Plot"
   ]
  },
  {
   "cell_type": "code",
   "execution_count": 2,
   "id": "4094c3b7-dc55-463c-ac46-25d213527422",
   "metadata": {},
   "outputs": [
    {
     "data": {
      "image/png": "[encoded data removed]",
      "text/plain": [
       "<Figure size 640x480 with 1 Axes>"
      ]
     },
     "metadata": {},
     "output_type": "display_data"
    }
   ],
   "source": [
    "# Arrays\n",
    "array_plot_x = np.arange(1000)\n",
    "array_plot_y_1 = 1 * array_plot_x\n",
    "array_plot_y_2 = 2 * array_plot_x\n",
    "array_plot_y_x = array_plot_x**2\n",
    "\n",
    "\n",
    "# Plot\n",
    "plt.plot( array_plot_x , array_plot_y_1 , \"b.\" , label=r'y=x')    \n",
    "plt.plot( array_plot_x , array_plot_y_2 , \"r-\" , label=r'y=2x')    \n",
    "plt.plot( array_plot_x , array_plot_y_x , \"g--\" , label=r'y=x^2')    \n",
    "plt.legend()\n",
    "plt.xlabel(r'x')\n",
    "plt.ylabel(r'y')\n",
    "# plt.xscale( 'log' , base=2)\n",
    "# plt.yscale( 'log' , base=10)\n",
    "plt.xlim(0,10)\n",
    "plt.ylim(0,10)\n",
    "plt.title(\"Gráfico exemplo\")    \n",
    "plt.grid(True)    \n",
    "plt.show()"
   ]
  },
  {
   "cell_type": "markdown",
   "id": "5841fae0-070d-4f69-8947-2689cf42816f",
   "metadata": {
    "jp-MarkdownHeadingCollapsed": true
   },
   "source": [
    "## - Subplots"
   ]
  },
  {
   "cell_type": "code",
   "execution_count": null,
   "id": "6afafed3-4b2e-4a24-9af2-0c630150e0fa",
   "metadata": {},
   "outputs": [],
   "source": []
  },
  {
   "cell_type": "markdown",
   "id": "8631d1fe-58df-41e5-a0b3-719c7ef05ce3",
   "metadata": {},
   "source": [
    "# **Métodos de integração**"
   ]
  },
  {
   "cell_type": "markdown",
   "id": "b6faad16-9877-4cfe-b33c-249e3c5fb7d7",
   "metadata": {
    "jp-MarkdownHeadingCollapsed": true
   },
   "source": [
    "## - Método do trapézio"
   ]
  },
  {
   "cell_type": "code",
   "execution_count": 3,
   "id": "f54493a9-73b5-4108-8aaa-b34f96a5fd81",
   "metadata": {},
   "outputs": [],
   "source": [
    "def Intgr_Trapézio( a , b , função , N ):    \n",
    "    ''' \n",
    "    O que faz a função?\n",
    "    Devolve o integral da função 'função' para o intervalo de integração [a,b] usando o método do trapézio com N fatias.\n",
    "    O procedimento geral está presente nas páginas 142 e 143 do Newman.\n",
    "    \n",
    "    Parâmetros:\n",
    "    - a : limite inferior do integral\n",
    "    - b : limite superior do integral\n",
    "    - função : função integranda\n",
    "    - N : número de fatias em que o intervalo [a,b] está definido\n",
    "\n",
    "    Return:\n",
    "    - N.A. : integral (escalar) \n",
    "    '''\n",
    "    # Constantes e afins \n",
    "    h = (b-a)/N\n",
    "    x = np.linspace( a , b , N+1 )    #criar um array com os valores entre a e b com N intervalos\n",
    "    y = função(x)    #array com todos os valores da função para o nosso x\n",
    "    \n",
    "    # Return\n",
    "    return h * ( y[0]/2 + y[-1]/2 + y[1:-1].sum())"
   ]
  },
  {
   "cell_type": "markdown",
   "id": "7ba32945-f216-436b-b6a9-7fe501ae4b56",
   "metadata": {
    "jp-MarkdownHeadingCollapsed": true
   },
   "source": [
    "## - Método de Simpson"
   ]
  },
  {
   "cell_type": "code",
   "execution_count": 4,
   "id": "0a872aab-e3f4-44b6-8ab3-605f2755fbdf",
   "metadata": {},
   "outputs": [],
   "source": [
    "def Intgr_Simpson( a , b , função , N ): \n",
    "    ''' \n",
    "    O que faz a função?\n",
    "    Devolve o integral da função 'função' para o intervalo de integração [a,b] usando o método de Simpson com N fatias.\n",
    "    O procedimento geral está presente nas páginas 146 e 147 do Newman.\n",
    "    \n",
    "    Parâmetros:\n",
    "    - a : limite inferior do integral\n",
    "    - b : limite superior do integral\n",
    "    - função : função integranda\n",
    "    - N : número de fatias em que o intervalo [a,b] está definido\n",
    "\n",
    "    Return:\n",
    "    - N.A. : integral (escalar) \n",
    "    '''\n",
    "    # Constantes e afins\n",
    "    h = (b-a)/N\n",
    "    \n",
    "    x = np.linspace( a , b , N+1 )    #criar um array com os valores entre a e b com N intervalos\n",
    "    y = função(x)    #array com todos os valores da função para o nosso x\n",
    "    \n",
    "    # Return\n",
    "    return (1/3) * h * ( y[0] + y[-1] + 4*y[1:N:2].sum() + 2*y[2:N:2].sum() )"
   ]
  },
  {
   "cell_type": "markdown",
   "id": "2b0235a0-a22c-48f5-a08e-7fad28d2c619",
   "metadata": {
    "jp-MarkdownHeadingCollapsed": true
   },
   "source": [
    "## - Integração por método de Romberg (usando método do trapézio)"
   ]
  },
  {
   "cell_type": "code",
   "execution_count": 5,
   "id": "7c371954-472b-4f68-b9ee-6532371d1004",
   "metadata": {},
   "outputs": [],
   "source": [
    "def Intgr_Romberg( a , b , função , ϵ=1e-6 ):\n",
    "    ''' \n",
    "    O que faz a função?\n",
    "    Usando o método de Romberg, calcula os diferentes valores da integração da função 'função' no intervalo [a,b] para uma variedade de Ns.\n",
    "    A cada linha o valor de N duplica. Atenção que a maneira como N está implementado nesta função é arbitrária; pode ser qualquer um, \n",
    "    desde que aumente com a passagem de ordem.\n",
    "    O procedimento geral está presente nas páginas 160 e 161 do Newman.\n",
    "    \n",
    "    Parâmetros:\n",
    "    - a : limite inferior do integral\n",
    "    - b : limite superior do integral\n",
    "    - função : função integranda\n",
    "    - ϵ : erro desejado no integral\n",
    "\n",
    "    Return:\n",
    "    - matriz : array de uma matriz que contem os diferentes valores de integração, consoante N usado (array)\n",
    "    '''    \n",
    "    # Constantes e afins\n",
    "    matriz = np.zeros( [ 2, 2 ] , dtype=np.complex128 )    #matriz que vai conter os valores dos integrais\n",
    "\n",
    "    # Calcular R_{1,1}, R_{2,1} e R_{2,2} (ver página 160 do livro)\n",
    "    #Ordem do passo\n",
    "    order = 1\n",
    "\n",
    "    #R_{1,1}, R_{2,1}\n",
    "    matriz[ order-1 , 0 ] = Ingr_Trapézio( a , b , função , 2**(4 + order + 0) )    #a escolha de N é arbitrária\n",
    "    matriz[ order , 0 ] = Ingr_Trapézio( a , b , função , 2**(4 + order + 1) )    #N passa a ser o dobro do valor anterior\n",
    "\n",
    "    #R_{2,2}\n",
    "    erro = ( table[1,0] - table[0,0] )  /  ( 2**(2*1) - 1 )\n",
    "    matriz[ 1 , 1 ] = matriz[1,0] + erro\n",
    "\n",
    "    # Ciclo while\n",
    "    while( abs(erro) > ϵ ):    #é necessário usar abs() porque caso contrário o nosso ciclo iria acabar assim que erro<0 \n",
    "        #Ordem do passo\n",
    "        order += 1    \n",
    "\n",
    "        #Preparação de matrizes\n",
    "        matriz_tmp = np.copy(matriz)    #valores da matriz no passo anterior\n",
    "        \n",
    "        matriz = np.zeros( [ order+1 , order+1 ] , dtype=np.complex128 )    #matriz de tamanho order+1 para poder acumudar matriz_tmp\n",
    "        matriz[ :order , :order ] = matriz_tmp[ : , : ]    #preencher a matriz\n",
    "\n",
    "        #Novos elementos da matriz\n",
    "        matriz[ order , 0 ] = Ingr_Trapézio( a , b , função , 2**(4 + order + 1))    #valor na primeira coluna (indíce 0)\n",
    "        \n",
    "        for i in range( 1 , order+1 ):    #valor à direita da coluna anterior\n",
    "            erro = ( matriz[ order ,i-1 ] - matriz[ order-1 , i-1 ] )  /  ( 2**(2*i) - 1 )\n",
    "            matriz[ order , i ] = matriz[ order , i-1 ] + erro    \n",
    "\n",
    "        #Atualização do valor do erro para esta ordem\n",
    "        erro = abs(    ( matriz[ order , order-1 ] - matriz[ order-1 , order-1] )  /  ( 2**(2 * order) - 1)    )\n",
    "\n",
    "    # Return\n",
    "    return matriz"
   ]
  },
  {
   "cell_type": "markdown",
   "id": "532cf860-42f2-4693-b582-499c914f53c0",
   "metadata": {
    "jp-MarkdownHeadingCollapsed": true
   },
   "source": [
    "## - Quadratura por polinómios de Hermite **!!!**"
   ]
  },
  {
   "cell_type": "code",
   "execution_count": 6,
   "id": "f70059e2-8438-4aa5-ad5e-92eb749fd7cc",
   "metadata": {},
   "outputs": [],
   "source": [
    "def Intgr_Hermite( função , n ):\n",
    "    ''' \n",
    "    O que faz a função?\n",
    "    Calcula o integral da função 'função' usando quadratura de polinómios de Hermite de ordem n.\n",
    "    \n",
    "    Parâmetros:\n",
    "    - a : limite inferior do integral\n",
    "    - b : limite superior do integral\n",
    "    - função : função integranda\n",
    "    - n : ordem do polinómio\n",
    "\n",
    "    Return:\n",
    "    - w @ f : valor do integral (escalar)\n",
    "    '''\n",
    "    # Pontos e pesos\n",
    "    x , w = sp.roots_chebyt(n)\n",
    "\n",
    "    # Adaptação devido à integranda e aos limites de integração\n",
    "    xt = (a + b)/2 + (b - a)/2 * x\n",
    "    f = função(xt) * np.sqrt(1 - x**2) * (b - a)/2    \n",
    "    \n",
    "    # Return\n",
    "    return w @ f    #ordem original era f @ w\n",
    "    \n",
    "    #Pontos e pesos\n",
    "    x , w = sp.special.roots_hermitenorm(n)\n",
    "    \n",
    "    #Return\n",
    "    return np.dot( w , função(x) )"
   ]
  },
  {
   "cell_type": "markdown",
   "id": "a498329f-2cc0-4994-8ebc-e07e495338d4",
   "metadata": {
    "jp-MarkdownHeadingCollapsed": true
   },
   "source": [
    "## - Quadratura por polinómios de Chebyshev"
   ]
  },
  {
   "cell_type": "markdown",
   "id": "5f30ba49-7a16-4a95-b4dd-208777c3f428",
   "metadata": {},
   "source": [
    "Usando a quadratura de Chebyshev podemos aproximar o integral por,\n",
    "\\begin{equation}\n",
    "\\int_{-1}^{1} dx \\, f(x) \\frac{1}{\\sqrt{1 - x^2}} \\approx \\sum_{i = 0}^{N-1} w_i f(x_i)\n",
    "\\end{equation}\n",
    "Onde os $w_i$ são os pesos e $x_i$ são os zeros do polinómio de ordem $N$\n",
    "É possível que nem o domínio de integração é o intervalo $]-1,1[$ nem a função integranda tem o peso explicitamente. \n",
    "Para fazer a conversão basta redefinir, \n",
    "\\begin{align}\n",
    "\\int_{a}^{b} dx g(x) & = \\frac{b - a}{2} \\int_{-1}^{1} dx' g\\left( \\frac{a + b}{2} + \\frac{b - a}{2} x' \\right) \\\\\n",
    "& = \\frac{b - a}{2} \\int_{-1}^{1} \\frac{dx'}{\\sqrt{1 - {x'}^2 }} g\\left( \\frac{a + b}{2} + \\frac{b - a}{2} x' \\right) \\sqrt{1 - {x'}^2} \\\\\n",
    "& \\approx \\sum_{i = 0}^{N-1} w_i g\\left( \\frac{a + b}{2} + \\frac{b - a}{2} {x_i'} \\right) \\sqrt{1 - {x_i'}^2}\n",
    "\\end{align}"
   ]
  },
  {
   "cell_type": "code",
   "execution_count": 7,
   "id": "dadb4825-2294-490a-bda8-326cbe08b468",
   "metadata": {},
   "outputs": [],
   "source": [
    "def Intgr_Chebyshev( a , b , função , n ):\n",
    "    ''' \n",
    "    O que faz a função?\n",
    "    Calcula o integral da função 'função' usando quadratura de polinómios de Chebyshev de ordem n.\n",
    "    Nesta função é feita a conversão para o caso em que o domínio de integração não é o intervalo [-1,1] e a função integranda não tem o\n",
    "    peso explicitamente.\n",
    "    O vai ao encontro da resolução do TPC1 2024.\n",
    "    \n",
    "    Parâmetros:\n",
    "    - a : limite inferior do integral\n",
    "    - b : limite superior do integral\n",
    "    - função : função integranda\n",
    "    - n : ordem do polinómio\n",
    "\n",
    "    Return:\n",
    "    - w @ f : valor do integral (escalar) \n",
    "    '''\n",
    "    \n",
    "    # Pontos e pesos\n",
    "    x , w = sp.roots_chebyt(n)\n",
    "\n",
    "    # Adaptação devido à integranda e aos limites de integração\n",
    "    xt = (a + b)/2 + (b - a)/2 * x\n",
    "    f = função(xt) * np.sqrt(1 - x**2) * (b - a)/2    \n",
    "    \n",
    "    # Return\n",
    "    return w @ f    #ordem original era f @ w"
   ]
  },
  {
   "cell_type": "markdown",
   "id": "071766b8-3dd8-4964-b2a2-a1637bbc5beb",
   "metadata": {},
   "source": [
    "# **Resolução de sistemas de equações**"
   ]
  },
  {
   "cell_type": "markdown",
   "id": "62a40f74-36ad-4378-bfb5-23f1d011e688",
   "metadata": {
    "jp-MarkdownHeadingCollapsed": true
   },
   "source": [
    "## - Eliminação de Gauss (sem pivotagem)"
   ]
  },
  {
   "cell_type": "code",
   "execution_count": 8,
   "id": "eb6eb9d2-6509-4931-b6bb-b7a92ef77c58",
   "metadata": {},
   "outputs": [],
   "source": [
    "def Elim_Gauss( matriz_A_original , vetor_b_original ):\n",
    "    ''' \n",
    "    O que faz a função?\n",
    "    Usando o método de eliminação de Gauss (sem pivotagem), determina o vetor x da equação: A x = b.\n",
    "    O procedimento geral está presente nas páginas 215 a 218 do Newman.\n",
    "    Este programa é uma adptação do exemplo 6.1 das páginas 218 e 219.\n",
    "    \n",
    "    Parâmetros:\n",
    "    - matriz_A_original : matriz com os coeficientes das incognitas para cada equação (matriz A)\n",
    "    - vetor_b_original : array (vetor) com os valores conhecidos (vetor b)\n",
    "\n",
    "    Return:\n",
    "    - x : array com os valores das diferentes incognitas do problema (array)\n",
    "    '''\n",
    "    # Constantes\n",
    "    A = np.copy( matriz_A_original )    #fazemos aqui uma cópia porque caso contrário iriamos estar a afetar a própria matriz A\n",
    "    b = np.copy( vetor_b_original )    #bis para vetor b\n",
    "    N = len(b)\n",
    "\n",
    "    # Eliminação de Gauss\n",
    "    for m in range(N):\n",
    "        #Dividir pelo elemento na diagonal\n",
    "        div = A[m,m]\n",
    "\n",
    "        A[m,:] /= div\n",
    "        b[m] /= div\n",
    "\n",
    "        #Subtrair nas linhas de baixo\n",
    "        for i in range( m+1 , N ):\n",
    "            mult = A[i,m]\n",
    "            \n",
    "            A[i,:] -= mult*A[m,:]\n",
    "            b[i] -= mult*b[m]\n",
    "    \n",
    "    # Backsubstituiton\n",
    "    x = np.empty( N , dtype=np.complex128 )    #atenção ao tipo de data escolhido! por exemplo: se resolver um sistema com valores \n",
    "                                               #complexos e x trabalhar com floats, o meu resultado vai estar errado\n",
    "    for k in range( N-1 , -1 , -1 ):\n",
    "        x[k] = ( b[k] - (A[k,k+1:] @ x[k+1:]) ) / A[k,k]\n",
    "\n",
    "    # Return\n",
    "    return x"
   ]
  },
  {
   "cell_type": "markdown",
   "id": "deb3fc31-9054-4777-bd9f-e9593ebd428c",
   "metadata": {
    "jp-MarkdownHeadingCollapsed": true
   },
   "source": [
    "## - Eliminação de Gauss (com pivotagem)"
   ]
  },
  {
   "cell_type": "code",
   "execution_count": 9,
   "id": "579aeb10-e797-4bad-9a8b-3ac9eef1fdb2",
   "metadata": {},
   "outputs": [],
   "source": [
    "def Elim_Gauss_pivot( matriz_A_original , vetor_b_original ):\n",
    "    ''' \n",
    "    O que faz a função?\n",
    "    Usando o método de eliminação de Gauss (com pivotagem), determina o vetor x da equação: A x = b\n",
    "    O procedimento geral está presente nas páginas 221 a 222 do Newman.\n",
    "    \n",
    "    Parâmetros:\n",
    "    - matriz_A_original : matriz com os coeficientes das incognitas para cada equação (matriz A)\n",
    "    - vetor_b_original : array (vetor) com os valores conhecidos (vetor b)\n",
    "\n",
    "    Return:\n",
    "    - x : array com os valores das diferentes incognitas do problema (array)\n",
    "    '''\n",
    "    # Constantes\n",
    "    A = np.copy( matriz_A_original )    #fazemos aqui uma cópia porque caso contrário iriamos estar a afetar a própria matriz A\n",
    "    b = np.copy( vetor_b_original )    #bis para vetor b\n",
    "    N = len(b)\n",
    "\n",
    "    # Percorrer os elementos da matriz\n",
    "    for m in range(N):        \n",
    "        #Pivotagem parcial\n",
    "        A_int = np.copy( A[m:,m:] )         #matriz interior m de  A\n",
    "        b_int = np.copy( b[m:] )            #vetor interior m de b\n",
    "        linhas = np.arange( len(b_int) )    #linhas da matriz interior\n",
    "        \n",
    "        A_temp = np.copy( A_int )    #copia temporária da matriz interior. usada para trocar depois as linhas\n",
    "        b_temp = np.copy( b_int )    #copia temporária do vetor interior. usada para trocar depois as linhas\n",
    "        linhas_temp = np.copy( linhas )    #linhas originais (vão ser usadas como valor de referência)\n",
    "        \n",
    "        linha_max = np.argmax( abs( A_int[:,0] ) )    #como estamos a trabalhar com a matriz interior, a linha em avaliação é sempre a de indíce 0\n",
    "\n",
    "        linhas[0] = linha_max                 #o indíce 0 passa a ser o índice da linha que tem o maior valor na primeira coluna\n",
    "        linhas[linha_max] = linhas_temp[0]    #o índice da linha que tinha o maior valor na primeira coluna passa a ser 0\n",
    "\n",
    "        A_int[0,:] = A_int[ linhas[0] , : ]                     #o que antes estava no indice da linha máx passa para a linha 0\n",
    "        A_int[linha_max,:] = A_temp[ linhas[linha_max] , : ]    #o que antes estava no indice da lunha 0 passa para a linha máx\n",
    "\n",
    "        b_int[0] = b_int[ linhas[0] ]                    #bis \n",
    "        b_int[linha_max] = b_temp[ linhas[linha_max]]    #bis \n",
    "\n",
    "        A[m:,m:] = A_int    #inserir a matriz interior na matriz original\n",
    "        b[m:] = b_int    #inserir o vetor interior no vetor original\n",
    "\n",
    "        #Eliminação de Gauss\n",
    "        div = A[m,m]    #dividir pelo elemento na diagonal        \n",
    "        A[m,:] /= div\n",
    "        b[m] /= div\n",
    "\n",
    "        for i in range( m+1 , N ):    #subtrair nas linhas de baixo\n",
    "            mult = A[i,m]\n",
    "            A[i,:] -= mult*A[m,:]\n",
    "            b[i] -= mult*b[m]\n",
    "\n",
    "    # Backsubstituiton\n",
    "    x = np.empty( N , dtype=b.dtype )    #atenção ao tipo de data escolhido! por exemplo: se resolver um sistema com valores\n",
    "                                               #complexos e x trabalhar com floats, o meu resultado vai estar errado\n",
    "    for k in range( N-1 , -1 , -1 ):\n",
    "        x[k] = ( b[k] - (A[k,k+1:] @ x[k+1:]) ) / A[k,k]\n",
    "\n",
    "    # Return\n",
    "    return x"
   ]
  },
  {
   "cell_type": "markdown",
   "id": "3faa2a90-9786-4941-80b2-095adcd480d9",
   "metadata": {
    "jp-MarkdownHeadingCollapsed": true
   },
   "source": [
    "## - Decomposição LU (sem pivotagem)"
   ]
  },
  {
   "cell_type": "code",
   "execution_count": 10,
   "id": "d913acf9-43d4-442f-a532-0bb52500bb4b",
   "metadata": {},
   "outputs": [],
   "source": [
    "def Decomp_LU( matriz_A_original ):\n",
    "    ''' \n",
    "    O que faz a função?\n",
    "    Decompõe a matriz A nas das matrizes L e U, sendo L uma matriz apenas com valores abaixo da diagonal e U uma matriz apenas com valores\n",
    "    acima da diagonal.\n",
    "    O procedimento geral está presente nas páginas 225 e 226 do Newman.\n",
    "    \n",
    "    Parâmetros:\n",
    "    - matriz_A_original : matriz que desejo decompor\n",
    "\n",
    "    Return:\n",
    "    - L , A : ficamos com duas matrizes sendo 'L' a matriz L e 'A' a matriz U (matriz)\n",
    "    '''\n",
    "    # Constantes\n",
    "    A = np.copy( matriz_A_original )    #fazemos aqui uma cópia porque caso contrário iriamos estar a afetar a própria matriz A\n",
    "    N = len(A)\n",
    "    L = np.zeros( [N,N] , dtype=A.dtype )\n",
    "\n",
    "    # Percorrer os elementos da matriz\n",
    "    for m in range(N):\n",
    "        #Preenchimento da matriz L\n",
    "        L[m:,m] = A[m:,m]\n",
    "\n",
    "        #Dividir pelo elemento na diagonal\n",
    "        div = A[m,m]\n",
    "        \n",
    "        A[m,:] /= div\n",
    "\n",
    "        #Subtrair nas linhas de baixo\n",
    "        for i in range( m+1 , N ):\n",
    "            mult = A[i,m]\n",
    "            \n",
    "            A[i,:] -= mult*A[m,:]\n",
    "\n",
    "    # Return\n",
    "    return L , A    #ver que neste caso L é a matriz lower e A é a matriz upper"
   ]
  },
  {
   "cell_type": "markdown",
   "id": "37896de7-2467-41fe-abba-fbf78a5361b4",
   "metadata": {
    "jp-MarkdownHeadingCollapsed": true
   },
   "source": [
    "## - Eliminação LU (sem pivotagem)"
   ]
  },
  {
   "cell_type": "code",
   "execution_count": 11,
   "id": "474e0cca-0ccf-4577-beb0-e5fce1ed8b4c",
   "metadata": {},
   "outputs": [],
   "source": [
    "def Elimin_LU( matriz_L_original , matriz_U_original , vetor_b_original ):\n",
    "    ''' \n",
    "    O que faz a função?\n",
    "    Resolve o sistema de equações defino a partir de A x = b usando a decomposição LU da matriz A, tal que são resolvidos dois sistemas de\n",
    "    equações: L y = b  e  U x = y. \n",
    "    O procedimento geral está presente nas páginas 226 e 227 do Newman.\n",
    "    \n",
    "    Parâmetros:\n",
    "    - matriz_L_original : matriz lower da decomposição LU da matriz A (matriz L)\n",
    "    - matriz_U_original : matriz upper da decomposição LU da matriz A (matriz U)\n",
    "    - vetor_b_original : array (vetor) com os valores conhecidos (vetor b)\n",
    "\n",
    "    Return:\n",
    "    - x : array com os valores das diferentes incognitas do problema (array)\n",
    "    '''\n",
    "    # Constantes\n",
    "    L = np.copy( matriz_L_original )\n",
    "    U = np.copy( matriz_U_original )\n",
    "    b = np.copy( vetor_b_original )\n",
    "    N = len(L)\n",
    "\n",
    "    # Backsubstituiton de y\n",
    "    y = np.empty( N , float )\n",
    "\n",
    "    for k in range( N ):\n",
    "        y[k] = ( b[k] - (L[k,:k] @ y[:k]) ) / L[k,k]\n",
    "\n",
    "    # Backsubtituiton de x\n",
    "    x = np.empty( N , dtype=A.dtype )\n",
    "\n",
    "    for k in range( N-1 , -1 , -1 ):\n",
    "        x[k] = ( y[k] - (U[k,k+1:] @ x[k+1:]) ) / U[k,k]\n",
    "\n",
    "    # Return\n",
    "    return x"
   ]
  },
  {
   "cell_type": "markdown",
   "id": "55b9f170-5ee4-4624-b829-baea135e40cc",
   "metadata": {
    "jp-MarkdownHeadingCollapsed": true
   },
   "source": [
    "## - Eliminação de Gauss para matrizes de bandas    **!!!**"
   ]
  },
  {
   "cell_type": "code",
   "execution_count": null,
   "id": "c2e63388-5dea-4f13-8686-b7024b128ebe",
   "metadata": {},
   "outputs": [],
   "source": []
  },
  {
   "cell_type": "markdown",
   "id": "069913c4-c3ab-412a-8d48-5d0001007725",
   "metadata": {
    "jp-MarkdownHeadingCollapsed": true
   },
   "source": [
    "## - Decomposição QR"
   ]
  },
  {
   "cell_type": "code",
   "execution_count": 12,
   "id": "aeb1b507-45c9-4369-83fa-4d4e55a1e708",
   "metadata": {},
   "outputs": [],
   "source": [
    "def Decomp_QR( A_original ):\n",
    "    ''' \n",
    "    O que faz a função?\n",
    "    Decompõe a matriz A nas das matrizes Q e R, sendo Q uma matriz ortogonal e R uma matriz triangular superior.\n",
    "    O procedimento geral está presente na páginas 246 e 247 do Newman.\n",
    "    \n",
    "    Parâmetros:\n",
    "    - matriz_A_original : matriz que desejo decompor\n",
    "\n",
    "    Return:\n",
    "    - Q , R : ficamos com duas matrizes sendo 'Q' a matriz Q e 'R' a matriz R \n",
    "    '''\n",
    "    # Constantes\n",
    "    A = np.copy( A_original )\n",
    "    N = len( A )\n",
    "    U = np.zeros( [N,N] , dtype=A.dtype )\n",
    "    Q = np.zeros( [N,N] , dtype=A.dtype )\n",
    "    R = np.zeros( [N,N] , dtype=A.dtype )\n",
    "\n",
    "    # Valores de q_{i} e u_{i} \n",
    "    for i in range(N):\n",
    "        #Determinar u_{i}\n",
    "        U[:,i] = A[:,i]\n",
    "\n",
    "        for j in range(i):\n",
    "            U[:,i] -= np.dot( Q[:,j] , A[:,i] ) * Q[:,j]\n",
    "\n",
    "        #Determinar q_{i}\n",
    "        Q[:,i] = U[:,i] / np.linalg.norm(U[:,i]) \n",
    "\n",
    "    #Contruir a matriz R\n",
    "    R = Q.T @ A    \n",
    "\n",
    "    # Return\n",
    "    return Q , R"
   ]
  },
  {
   "cell_type": "markdown",
   "id": "ee935c92-4846-46cb-93e3-8c4d07a125fc",
   "metadata": {
    "jp-MarkdownHeadingCollapsed": true
   },
   "source": [
    "## - Determinação de valores prórpios e vetores próprios"
   ]
  },
  {
   "cell_type": "code",
   "execution_count": 13,
   "id": "7338201d-8053-48aa-bce0-bd8fa8befa5a",
   "metadata": {},
   "outputs": [],
   "source": [
    "def Algort_QR( A_original , ϵ_user=1e-6 ):\n",
    "    ''' \n",
    "    O que faz a função?\n",
    "    O procedimento geral está presente na páginas 244 do Newman.\n",
    "    \n",
    "    Parâmetros:\n",
    "    - matriz_A_original : matriz que desejo decompor\n",
    "    - ϵ_user : precisão desejada para os elementos fora da ortogonal\n",
    "\n",
    "    Return:\n",
    "    - np.diagonal(A) , V : ficamos com dois arrays: 'np.diagonal(A)' representa na forma de array os valores próprios da matriz A\n",
    "    e 'V' é uma matriz com os vetores próprios da matriz A em cada coluna. \n",
    "    '''\n",
    "    # Constantes e afins\n",
    "    A = np.copy( A_original )\n",
    "    N = len( A )\n",
    "    V = np.identity( N , dtype=A.dtype )\n",
    "    contador = 0\n",
    "\n",
    "    # Ciclo de diagonalização\n",
    "    while np.linalg.norm(A - np.diag(np.diagonal(A))) > ϵ_user:\n",
    "    # while (  A - np.diag(np.diagonal(A))  ) > ϵ_user or contador<1000:\n",
    "        Q , R = Decomp_QR( A )    #calculate de QR decomposition A=QR\n",
    "        V_temp = np.copy( V )\n",
    "        \n",
    "        A = R @ Q    #update A to the new value A=RQ\n",
    "        V = V_temp @ Q    #multuply V on the right by Q\n",
    "    \n",
    "    # Return\n",
    "    return np.diagonal(A) , V"
   ]
  },
  {
   "cell_type": "markdown",
   "id": "8a1e4870-691d-4e6e-a710-a88d62af25d5",
   "metadata": {
    "jp-MarkdownHeadingCollapsed": true
   },
   "source": [
    "## - Método de relaxação"
   ]
  },
  {
   "cell_type": "code",
   "execution_count": 14,
   "id": "a2c776b0-3978-4250-a629-8cfd05e095b3",
   "metadata": {},
   "outputs": [],
   "source": [
    "def Mét_relax( f , df , ϵ_user=1e-6 ):\n",
    "    ''' \n",
    "    O que faz a função?\n",
    "    A partir de um valor inicial definido dentro do programa (x1=1.0), iremos procurar a raiz da função que está a ser usada a menos de\n",
    "    um erro definido pelo utilizador (ϵ_user). O processo nem sempre converge.\n",
    "    A cada passo, iremos verificar se o erro entre a nova estimativa de raiz e a nova estimativa são inferiores do que a incerteza desejada\n",
    "    , sendo usada a expressão (6.83) do Newman.\n",
    "    \n",
    "    Parâmetros:\n",
    "    - f : função cuja raiz queremos determinar\n",
    "    - df : derivada da função que está a ser usada\n",
    "    - ϵ_user : precisão desejada para os elementos fora da ortogonal\n",
    "\n",
    "    Return:\n",
    "    - x1 : o valor mais aproximado da raiz dentro do parâmetro de erro estabelecido. \n",
    "    '''\n",
    "    # Constantes\n",
    "    x1 = 1.0\n",
    "    ϵ = 1.0 \n",
    "\n",
    "    # Ciclo while\n",
    "    while ϵ > ϵ_user:\n",
    "        x1 , x2 = f(x1) , x1\n",
    "        ϵ = abs(  (x1-x2) / ( 1 - (1/df(x1)) )  )\n",
    "\n",
    "    #Return\n",
    "    return x1"
   ]
  },
  {
   "cell_type": "markdown",
   "id": "595b938f-85fb-4b50-977e-a2d4591090b5",
   "metadata": {
    "jp-MarkdownHeadingCollapsed": true
   },
   "source": [
    "## - Método de sobre-relaxacão"
   ]
  },
  {
   "cell_type": "code",
   "execution_count": 15,
   "id": "2d305819-9583-4bbb-b54e-e462017d3ecf",
   "metadata": {},
   "outputs": [],
   "source": [
    "def Mét_sobrrelax( f , df , ω , ϵ_user=1e-6 ):\n",
    "    ''' \n",
    "    O que faz a função?\n",
    "    De forma semelhante ao método de relaxação, a partir de um valor inicial definido dentro do programa (x1=1.0), iremos procurar a raiz\n",
    "    da função que está a ser usada a menos de um erro definido pelo utilizador (ϵ_user). Novamente, o processo nem sempre converge.\n",
    "    Neste método, ao vermos que o nosso valor de x está, por exemplo, a aumentar vamos avaliar o erro para um valor de x maior do que \n",
    "    aquele que iriamos usar originalmente (para uma raiz em x=5, se de x=1 passassemos para x=3, no método de sobre-relaxação passámos\n",
    "    para x=4).\n",
    "    Um parâmetro extra desta função relativamente ao método de relaxação é ω. Caso este parâmetro seja 0, temos o mesmo procedimento que o\n",
    "    método de relaxação, mas para ω>0 o método pega na quantidade Δx pelo qual x teria variado e muda-o um pouco mais.\n",
    "    \n",
    "    Parâmetros:\n",
    "    - f : função cuja raiz queremos determinar\n",
    "    - df : derivada da função que está a ser usada\n",
    "    - ω : taxa de overshoot (não há uma boa maneira de saber de imediato este valor; tem de ser determinado pelo utilizador com testes)\n",
    "    - ϵ_user : precisão desejada para os elementos fora da ortogonal\n",
    "\n",
    "    Return:\n",
    "    - x1 : o valor mais aproximado da raiz dentro do parâmetro de erro estabelecido. \n",
    "    '''\n",
    "    # Constantes\n",
    "    x1 = 1.0\n",
    "    ϵ = 1.0 \n",
    "    i = 0    #número de iterações necessárias\n",
    "\n",
    "    # Ciclo while\n",
    "    while ϵ > ϵ_user:\n",
    "        i += 1    #foi necessária mais uma iteração\n",
    "        x1 , x2 = f(x1) , x1\n",
    "        ϵ = abs(    (x1-x2) / (   1 - (  1/( (1+ω)*df(x1)-ω )  )   )    )\n",
    "\n",
    "    #Return\n",
    "    return x1 , i"
   ]
  },
  {
   "cell_type": "markdown",
   "id": "9d2bc704-8bb0-4e02-89d1-343362d322bb",
   "metadata": {
    "jp-MarkdownHeadingCollapsed": true
   },
   "source": [
    "## - Método de bisseção"
   ]
  },
  {
   "cell_type": "code",
   "execution_count": 16,
   "id": "1d6c9000-6e5e-4a3d-b0a0-79e0a0e19c6a",
   "metadata": {},
   "outputs": [],
   "source": [
    "def Mét_biseção( x1 , x2 , função , ϵ_user=1e-6 ):\n",
    "    ''' \n",
    "    O que faz a função?\n",
    "    O método de bisseção é uma forma de determinar a raiz de uma função (função) dentro do intervalo [x1,x2] definido pelo utilizador a\n",
    "    menos de um erro (ϵ_user). \n",
    "    O algoritmo verifica se o produto entre f(x1) e f(x2) é negativo, como a função é considerada contínua deve existir uma raiz nesse\n",
    "    intervalo; caso não exista uma raiz, o programa dá print a uma mensagem. Com cada passo do processo, iremos escolher um novo ponto de\n",
    "    avaliação. Avaliando o produto entre esse os valores de x1 e esse novo x na função, iremos atribuir uma nova designação a cada ponto,\n",
    "    havendo um certo 'shift' à medida que nos aprocimamos do zero da função.\n",
    "    Uma escolha prévia do intervalo pode ser realizada fazendo um plot da função.\n",
    "    \n",
    "    Parâmetros:\n",
    "    - x1 : valor à esquerda do zero\n",
    "    - x2 : valor à direita do zero\n",
    "    - função : função em estudo\n",
    "    - ϵ_user : precisão desejada para a raiz\n",
    "\n",
    "    Return:\n",
    "    - 0.5*(x1+x2) : valor mais aproximado da raiz dentro do parâmetro de erro estabelecido. \n",
    "    '''\n",
    "    # Condição de entrada\n",
    "    if função(x1) * função(x2) > 0:\n",
    "        print('Não existe uma raiz dentro do intervalo selecionado.')\n",
    "    else:\n",
    "        #Ciclo while\n",
    "        while ϵ_user > abs(x1-x2):\n",
    "            x_ = 0.5*(x1+x2)\n",
    "\n",
    "            if função(x_)*função(x1)>0:    \n",
    "                x1 = x_    #if f(x') has the same sign as f(x1) then set x1=x'\n",
    "            else:\n",
    "                x2 = x_    #otherwise set x2=x'\n",
    "\n",
    "    # Return\n",
    "    return 0.5*(x1+x2)"
   ]
  },
  {
   "cell_type": "markdown",
   "id": "6e8ce9ed-b617-45af-9d94-61662ec8870d",
   "metadata": {
    "jp-MarkdownHeadingCollapsed": true
   },
   "source": [
    "##  - Método de Newton / Newton-Raphson"
   ]
  },
  {
   "cell_type": "code",
   "execution_count": 17,
   "id": "7a2312ce-1463-4e39-9417-6a249024048f",
   "metadata": {},
   "outputs": [],
   "source": [
    "def Mét_Newton( x , f , df , ϵ_user=1e-6 ):\n",
    "    ''' \n",
    "    O que faz a função?\n",
    "    O método de Newton usa a estimativa da raiz, x, e usa a o declive desse ponto na função f para extrapolar uma melhor estimativa x'. \n",
    "    Este procedimento repete-se até a diferença entre estimativas sucessivas for menor ou igual que a precisão desejada.\n",
    "    \n",
    "    Parâmetros:\n",
    "    - x : estimativa inicial da raiz\n",
    "    - f : função cuja raiz queremos determinar\n",
    "    - df : derivada da função em questão\n",
    "    - ϵ_user : precisão desejada para a raiz\n",
    "\n",
    "    Return:\n",
    "    - x : valor mais próximo da raiz da função para o erro ϵ_user\n",
    "    '''\n",
    "    # Constantes\n",
    "    ϵ = 1.0\n",
    "\n",
    "    #Ciclo while\n",
    "    while abs(ϵ)>ϵ_user:\n",
    "        x_ = x - ( f(x) / df(x) )    #cálculo de x'\n",
    "        \n",
    "        ϵ = x-x_    #atualização do valor do erro (não conta o passo final, apenas e incluíndo o penúltimo)\n",
    "        \n",
    "        x = x_    #atualização do valor de x para um possível futuro passo\n",
    "\n",
    "    # Return\n",
    "    return x"
   ]
  },
  {
   "cell_type": "markdown",
   "id": "7ab0fe4d-6458-4beb-8418-312694b8d433",
   "metadata": {
    "jp-MarkdownHeadingCollapsed": true
   },
   "source": [
    "## - Método de Secante"
   ]
  },
  {
   "cell_type": "code",
   "execution_count": 18,
   "id": "fb39b1df-52fe-4c7b-9688-c7244d0b3436",
   "metadata": {},
   "outputs": [],
   "source": [
    "def Mét_secante( x1 , x2 , função , ϵ_user=1e-6 ):\n",
    "    ''' \n",
    "    O que faz a função?\n",
    "    O funcionamento deste método é semelhante àquele executado no método de Newton, a grande diferença está no facto de que não precisamos\n",
    "    de saber a derivada da função em questão. É feita uma aproximação do declive da função que será usado para obtermos uma melhor \n",
    "    estimativa da raiz.\n",
    "    \n",
    "    Parâmetros:\n",
    "    - x1 : um valor qualquer (dentro de razão) \n",
    "    - x2 : um valor qualquer (dentro de razão)\n",
    "    - função : função cuja raiz queremos determinar\n",
    "    - ϵ_user : precisão desejada para a raiz\n",
    "\n",
    "    Return:\n",
    "    - x : valor mais próximo da raiz da função para o erro ϵ_user\n",
    "    '''\n",
    "    # Constantes\n",
    "    ϵ = 2*ϵ_user\n",
    "    N_ciclos = 0\n",
    "\n",
    "    #Ciclo while\n",
    "    while ϵ>ϵ_user and N_ciclos<N_max:\n",
    "        x3 = x2 - função(x2) * (x2-x1)/( função(x2)-função(x1) )\n",
    "        \n",
    "        ϵ = abs(x3-x2)    #atualização do valor do erro (não conta o passo final, apenas e incluíndo o penúltimo)\n",
    "        N_ciclos += 1    #atualização do número de ciclos percorridos\n",
    "        \n",
    "        x1 = x2 \n",
    "        x2 = x3    #atualização dos valores x's para um possível futuro passo\n",
    "\n",
    "    # Return\n",
    "    return x1"
   ]
  },
  {
   "cell_type": "markdown",
   "id": "9f422365-63a9-4706-a70d-cee197eb30ba",
   "metadata": {
    "jp-MarkdownHeadingCollapsed": true
   },
   "source": [
    "## - Método de Newton para >1 dimensões    **!!!**"
   ]
  },
  {
   "cell_type": "code",
   "execution_count": null,
   "id": "bbda803c-0826-4e3a-99a3-f9cde574da65",
   "metadata": {},
   "outputs": [],
   "source": []
  },
  {
   "cell_type": "markdown",
   "id": "2d2e1e20-2f85-40c9-8af7-7cc3de3cfb28",
   "metadata": {
    "jp-MarkdownHeadingCollapsed": true
   },
   "source": [
    "## - Máximo e mínimo    **!!!**"
   ]
  },
  {
   "cell_type": "code",
   "execution_count": null,
   "id": "ea300a6f-e481-4e75-ab3b-95516138be35",
   "metadata": {},
   "outputs": [],
   "source": []
  },
  {
   "cell_type": "markdown",
   "id": "8299e568-1468-48b5-be19-57ffe20353d5",
   "metadata": {},
   "source": [
    "# **Transformadas de Fourier**"
   ]
  },
  {
   "cell_type": "markdown",
   "id": "52555804-f38c-4c4c-8567-3f28c8308dbd",
   "metadata": {
    "jp-MarkdownHeadingCollapsed": true
   },
   "source": [
    "## - Transformada de Fourier (discreta)"
   ]
  },
  {
   "cell_type": "code",
   "execution_count": 19,
   "id": "b96473d6-5b35-4c10-b00a-0379a5c8c930",
   "metadata": {},
   "outputs": [],
   "source": [
    "def DFT( y ):\n",
    "    '''\n",
    "    O que faz a função?\n",
    "    Indica os coeficientes (complexos) de uma transformada de Fourier para a série discreta de elementos no array y\n",
    "    \n",
    "    Parâmetros:\n",
    "    - y : array com os valores do sinal cujos coeficientes da transformada de Fourier queremos determinar \n",
    "\n",
    "    Return:\n",
    "    - c : array contendo os coeficientes da transformada de Fourier queremos determinar\n",
    "    '''\n",
    "    # Constantes\n",
    "    N = len(y)\n",
    "    c = np.zeros( N//2+1 , complex )    #array que irá guardar os coeficientes \n",
    "\n",
    "    # Cálculo dos coeficientes\n",
    "    for k in range( N//2+1 ):\n",
    "        for n in range(N):    #sumatório\n",
    "            c[k] += y[n] * np.exp(-2j*np.pi*k*n/N)\n",
    "    \n",
    "    # Return\n",
    "    return c"
   ]
  },
  {
   "cell_type": "markdown",
   "id": "751b2a2c-355b-40dc-bc3a-1d93ff74ce57",
   "metadata": {
    "jp-MarkdownHeadingCollapsed": true
   },
   "source": [
    "## - Inversa da transformada de Fourier (discreta)   **!!!**"
   ]
  },
  {
   "cell_type": "code",
   "execution_count": null,
   "id": "1aaef1bf-c6e3-4ec1-ac98-26c429b9902f",
   "metadata": {},
   "outputs": [],
   "source": []
  },
  {
   "cell_type": "markdown",
   "id": "6d60092d-b7cf-4948-bdaa-7efe9ed48204",
   "metadata": {},
   "source": [
    "# **Equações diferenciais ordinárias (ODEs)**"
   ]
  },
  {
   "cell_type": "markdown",
   "id": "98b5f791-008d-408e-ac54-d709b29ecfb8",
   "metadata": {
    "jp-MarkdownHeadingCollapsed": true
   },
   "source": [
    "## - Método de Runge-Kutta de 4ª ordem"
   ]
  },
  {
   "cell_type": "code",
   "execution_count": 20,
   "id": "8c3ecde5-6615-4489-bd69-da64beec4146",
   "metadata": {},
   "outputs": [],
   "source": [
    "def RK4( função , x0 , a , b , N ):\n",
    "    '''\n",
    "    O que faz a função?\n",
    "    Usando o método de Runge-Kutta de 4ª ordem, determina os diferentes valores da equação solução da equação diferencial ordinária para\n",
    "    o intervalo de tempo em questão. \n",
    "    \n",
    "    Parâmetros:\n",
    "    - f : corresponde à derivada no tempo da função que nos interessa\n",
    "    - x0 : condição inicial\n",
    "    - a : início do intervalo de tempo\n",
    "    - b : fim do intervalo de tempo\n",
    "    - N : número de parcelas \n",
    "\n",
    "    Return:\n",
    "    - tpoints : array com os diferentes valores do tempo (equiespaçados)\n",
    "    - xpoints : array com os diferentes valores da equação solução da equação diferencial ordinária para o intervalo de tempo em questão  \n",
    "    '''\n",
    "    #Constantes\n",
    "    h = (b-a)/N\n",
    "    tpoints = np.arange( a , b , h )\n",
    "    xpoints = np.zeros( len(tpoints) )\n",
    "    x = x0\n",
    "    \n",
    "    #Percorrer pontos\n",
    "    for i,t in enumerate(tpoints):\n",
    "        xpoints[i] = x\n",
    "\n",
    "        k1 = h * função( x , t ) \n",
    "        k2 = h * função( x+0.5*k1 , t+0.5*h ) \n",
    "        k3 = h * função( x+0.5*k2 , t+0.5*h ) \n",
    "        k4 = h * função( x+k3 , t+h ) \n",
    "\n",
    "        x += (k1 +2*k2 + 2*k3 + k4) / 6\n",
    "\n",
    "    # Return\n",
    "    return tpoints , xpoints"
   ]
  },
  {
   "cell_type": "markdown",
   "id": "a12303a2-fede-43c1-869a-61aab5f736e5",
   "metadata": {
    "jp-MarkdownHeadingCollapsed": true
   },
   "source": [
    "## - Método de Runge-Kutta de 4ª ordem para intervalos infinitos"
   ]
  },
  {
   "cell_type": "code",
   "execution_count": 21,
   "id": "15affa40-ef22-42e9-a682-738aadb7ac65",
   "metadata": {},
   "outputs": [],
   "source": [
    "def RK4_infinite( função_g , x0 , N ):\n",
    "    '''\n",
    "    O que faz a função?\n",
    "    Usando o método de Runge-Kutta de 4ª ordem, determina os diferentes valores da equação solução da equação diferencial ordinária desde \n",
    "    0 até inf. É feita uma troca de variável que, para ser sincero, é melhor entendida ao ler a página 341 e 342\n",
    "    \n",
    "    Parâmetros:\n",
    "    - função_g : relaciona-se com a derivada no tempo da função que nos interessa como é indicado pela equação (8.24)\n",
    "    - x0 : condição inicial\n",
    "    - N : número de parcelas \n",
    "\n",
    "    Return:\n",
    "    - tpoints : array com os diferentes valores do tempo (equiespaçados)\n",
    "    - xpoints : array com os diferentes valores da equação solução da equação diferencial ordinária para o intervalo de tempo em questão  \n",
    "    '''\n",
    "    #Constantes\n",
    "    a = 0.0\n",
    "    b = 1.0\n",
    "    h = (b-a)/N\n",
    "    upoints = np.arange(a,b,h)\n",
    "    tpoints = np.arange( a , b , h )\n",
    "    xpoints = np.zeros( len(tpoints) )\n",
    "    x = x0\n",
    "    \n",
    "    #Percorrer pontos\n",
    "    for i,u in enumerate(tpoints):\n",
    "        tpoints[i] = u/(1-u)\n",
    "        xpoints[i] = x\n",
    "\n",
    "        k1 = h * função_g( x , u ) \n",
    "        k2 = h * função_g( x+0.5*k1 , u+0.5*h ) \n",
    "        k3 = h * função_g( x+0.5*k2 , u+0.5*h ) \n",
    "        k4 = h * função_g( x+k3 , u+h ) \n",
    "\n",
    "        x += (k1 +2*k2 + 2*k3 + k4) / 6\n",
    "\n",
    "    # Return\n",
    "    return tpoints , xpoints"
   ]
  },
  {
   "cell_type": "markdown",
   "id": "44084603-4733-4137-9c4b-14ed78ac4dc0",
   "metadata": {
    "jp-MarkdownHeadingCollapsed": true
   },
   "source": [
    "## - Método de Runge-Kutta de 4ªa ordem para duas coordenadas"
   ]
  },
  {
   "cell_type": "code",
   "execution_count": 22,
   "id": "c8487929-7794-49c5-8110-e0d75b7d6e1a",
   "metadata": {},
   "outputs": [
    {
     "ename": "SyntaxError",
     "evalue": "invalid syntax (1306040878.py, line 18)",
     "output_type": "error",
     "traceback": [
      "\u001b[1;36m  Cell \u001b[1;32mIn[22], line 18\u001b[1;36m\u001b[0m\n\u001b[1;33m    fx = #\u001b[0m\n\u001b[1;37m         ^\u001b[0m\n\u001b[1;31mSyntaxError\u001b[0m\u001b[1;31m:\u001b[0m invalid syntax\n"
     ]
    }
   ],
   "source": [
    "def f(r,t):\n",
    "    '''\n",
    "    O que faz a função?\n",
    "    Usando notação vetorial, representa a derivada no tempo do vetor r. Ver página 344.\n",
    "    \n",
    "    Parâmetros:\n",
    "    - r : array com as diferentes coordenadas (x1,x2...,xn,x'1,x'2,...,x'n)\n",
    "    - t : valor de tempo\n",
    "\n",
    "    Return:\n",
    "    - np.array( [fx,fy] ) : array com os valores das derivadas de interesse para esse instante   \n",
    "    '''\n",
    "    # Coordenadas do vetor posição\n",
    "    x = r[0]\n",
    "    y = r[1]\n",
    "\n",
    "    # Derivada de cada componente no tempo\n",
    "    fx = #\n",
    "    fy = \n",
    "\n",
    "    # Return\n",
    "    return np.array( [fx,fy] , dtype=float )    #!!!\n",
    "\n",
    "\n",
    "\n",
    "def RK4_multi( função , x0 , y0 , a , b , N ):    #aqui a função é definida como é descrito em 344 e 345\n",
    "    '''\n",
    "    O que faz a função?\n",
    "    Usando o método de Runge-Kutta de 4ª ordem, determina os diferentes valores da equação solução de duas variáveis da equação\n",
    "    diferencial ordinária para o intervalo de tempo em questão. \n",
    "    \n",
    "    Parâmetros:\n",
    "    - função : refere-se a f(r,t) \n",
    "    - x0 : condição inicial de x0\n",
    "    - y0 : condição inicial de y'\n",
    "    - a : início do intervalo de tempo \n",
    "    - b : fim do intervalo de tempo\n",
    "    - N : número de valores para o intervalo\n",
    "\n",
    "    Return:\n",
    "    - tpoints : array dos diferentes valores do intervalo de tempo\n",
    "    - xpoints : valores de x em função do tempo\n",
    "    - ypoints : valores de y em função do tempo\n",
    "    '''\n",
    "    #Constantes\n",
    "    h = (b-a)/N\n",
    "    tpoints = np.arange( a , b , h )\n",
    "    xpoints = np.zeros( len(tpoints) )\n",
    "    ypoints = np.zeros( len(tpoints) )\n",
    "    r = np.array( [x0,y0] , dtype=float )    #!!!\n",
    "    \n",
    "    #Percorrer pontos\n",
    "    for i,t in enumerate(tpoints):\n",
    "        xpoints[i] = r[0]\n",
    "        ypoints[i] = r[1]\n",
    "\n",
    "        k1 = h * função( r , t ) \n",
    "        k2 = h * função( r+0.5*k1 , t+0.5*h ) \n",
    "        k3 = h * função( r+0.5*k2 , t+0.5*h ) \n",
    "        k4 = h * função( r+k3 , t+h ) \n",
    "\n",
    "        r += (k1 +2*k2 + 2*k3 + k4) / 6\n",
    "\n",
    "    # Return\n",
    "    return tpoints , xpoints , ypoints"
   ]
  },
  {
   "cell_type": "markdown",
   "id": "5926dee8-cb8b-425e-82c5-7716cd025ac3",
   "metadata": {},
   "source": [
    "# **Equações diferenciais parciais**"
   ]
  },
  {
   "cell_type": "markdown",
   "id": "5999e59e-cc79-42ec-8e31-43b5197132e9",
   "metadata": {
    "jp-MarkdownHeadingCollapsed": true
   },
   "source": [
    "## - Método de Jacobi    **!!!**"
   ]
  },
  {
   "cell_type": "code",
   "execution_count": null,
   "id": "1d2db4f0-b6dc-48ed-a3cf-71cafbbb2fe2",
   "metadata": {},
   "outputs": [],
   "source": []
  },
  {
   "cell_type": "markdown",
   "id": "8f5343fd-a41b-4cca-922e-054b57cbf9c2",
   "metadata": {
    "jp-MarkdownHeadingCollapsed": true
   },
   "source": [
    "## - Método de Gauss-Seidel"
   ]
  },
  {
   "cell_type": "code",
   "execution_count": null,
   "id": "f612e112-e5ee-4ca7-806b-beb6599cfa8f",
   "metadata": {},
   "outputs": [],
   "source": [
    "def Mét_Gauss_Seidel( A , ϵ=1e-6 , ω=0.9 ):\n",
    "    '''\n",
    "    O que faz a função?\n",
    "    Usando o método de Gauss-Seidel, determina os valores da função em estudo cujos valores são expressos pela matriz A.\n",
    "    A parte importante deste método são as restrições! Ver linha 18 e Notebook da série 8 caso sejam necessário mais exemplos.\n",
    "     \n",
    "    \n",
    "    Parâmetros:\n",
    "    - A : matriz que irá conter os valores da função\n",
    "    - ϵ : precisão desejada \n",
    "    - ω : valor de ω a usar\n",
    "    \n",
    "    Return:\n",
    "    - A : matriz com os valores da função\n",
    "    '''\n",
    "    # Constantes\n",
    "    maior_diff = 1\n",
    "\n",
    "    # Procedimento de Gauss-\n",
    "    #Ciclo while\n",
    "    while maior_diff > ϵ:\n",
    "        #Reset ao valor de maior_diff para a nova avaliação da grelha\n",
    "        maior_diff = 0\n",
    "\n",
    "        #Percorrer a grelha\n",
    "        for i in range( len(A) ):\n",
    "            for j in range( len(A) ):\n",
    "                if #restrição or #restrição or #restrição or #restrição:\n",
    "                    pass\n",
    "                else:\n",
    "                    A_antes = A[i,j]\n",
    "                    \n",
    "                    A[i,j] = ((1+ω)/4)  *  (A[i+1,j] + A[i-1,j] + A[i,j+1] + A[i,j-1])  -  ω*A[i,j]\n",
    "\n",
    "                    A_depois = A[i,j]\n",
    "\n",
    "                    #Qual a maior diferença para este valor \n",
    "                    maior_diff = max( maior_diff , abs(A_depois-A_antes)  )\n",
    "\n",
    "    # Return\n",
    "    return A"
   ]
  }
 ],
 "metadata": {
  "kernelspec": {
   "display_name": "Python 3 (ipykernel)",
   "language": "python",
   "name": "python3"
  },
  "language_info": {
   "codemirror_mode": {
    "name": "ipython",
    "version": 3
   },
   "file_extension": ".py",
   "mimetype": "text/x-python",
   "name": "python",
   "nbconvert_exporter": "python",
   "pygments_lexer": "ipython3",
   "version": "3.11.7"
  }
 },
 "nbformat": 4,
 "nbformat_minor": 5
}
