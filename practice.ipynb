{
 "cells": [
  {
   "cell_type": "markdown",
   "metadata": {},
   "source": [
    "# Import modules"
   ]
  },
  {
   "cell_type": "code",
   "execution_count": 5,
   "metadata": {},
   "outputs": [],
   "source": [
    "import numpy as np\n",
    "import scipy as sc\n",
    "import pandas as pd\n",
    "import star_privateer as sp\n",
    "import lightkurve as lk\n",
    "import matplotlib.pyplot as plt\n",
    "from astroquery.mast import Observations "
   ]
  },
  {
   "cell_type": "markdown",
   "metadata": {},
   "source": [
    "# Practice "
   ]
  },
  {
   "cell_type": "markdown",
   "metadata": {},
   "source": [
    "## SWEET-cat"
   ]
  },
  {
   "cell_type": "code",
   "execution_count": 6,
   "metadata": {},
   "outputs": [],
   "source": [
    "import urllib\n",
    "import pandas as pd\n",
    "import numpy as np\n",
    "from astropy import coordinates as coord\n",
    "from astropy import units as u"
   ]
  },
  {
   "cell_type": "code",
   "execution_count": 22,
   "metadata": {},
   "outputs": [
    {
     "name": "stdout",
     "output_type": "stream",
     "text": [
      "Index(['Name', 'hd', 'RA', 'DEC', 'Vmag', 'eVmag', 'PlxFlag', 'Teff', 'eTeff',\n",
      "       'Logg', 'eLogg', 'Vt', 'eVt', '[Fe/H]', 'e[Fe/H]', 'Reference', 'Link',\n",
      "       'SWFlag', 'Update', 'Comment', 'Database', 'gaia_dr2', 'gaia_dr3',\n",
      "       'Plx', 'ePlx', 'Gmag', 'eGmag', 'RPmag', 'eRPmag', 'BPmag', 'eBPmag',\n",
      "       'FG', 'eFG', 'G_flux_std_n', 'Logg_gaia', 'eLogg_gaia', 'Mass_t',\n",
      "       'eMass_t', 'Radius_t', 'eRadius_t', 'spec_base', 'Distance', 'RA_EU',\n",
      "       'DEC_EU', 'RA_NASA', 'DEC_NASA', 'Distance_b', 'eDistance_b'],\n",
      "      dtype='object')\n"
     ]
    }
   ],
   "source": [
    "#loading as a pandas dataframe:\n",
    "sweetCat_table_url = \"http://sweetcat.iastro.pt/catalog/SWEETCAT_Dataframe.csv\"    \n",
    "dtype_SW = dtype={'gaia_dr2':'int64','gaia_dr3':'int64'}\n",
    "SC = pd.read_csv(urllib.request.urlopen(sweetCat_table_url), dtype=dtype_SW)\n",
    "print(SC.columns)    #it´s possible to navigate items on SC.columns by using []"
   ]
  },
  {
   "cell_type": "code",
   "execution_count": 23,
   "metadata": {},
   "outputs": [
    {
     "name": "stdout",
     "output_type": "stream",
     "text": [
      "['Name', 'hd', 'RA', 'DEC', 'Vmag', 'eVmag', 'PlxFlag', 'Teff', 'eTeff', 'Logg', 'eLogg', 'Vt', 'eVt', '[Fe/H]', 'e[Fe/H]', 'Reference', 'Link', 'SWFlag', 'Update', 'Comment', 'Database', 'gaia_dr2', 'gaia_dr3', 'Plx', 'ePlx', 'Gmag', 'eGmag', 'RPmag', 'eRPmag', 'BPmag', 'eBPmag', 'FG', 'eFG', 'G_flux_std_n', 'Logg_gaia', 'eLogg_gaia', 'Mass_t', 'eMass_t', 'Radius_t', 'eRadius_t', 'spec_base', 'Distance', 'RA_EU', 'DEC_EU', 'RA_NASA', 'DEC_NASA', 'Distance_b', 'eDistance_b']\n"
     ]
    }
   ],
   "source": [
    "#loading as a astropy Table:\n",
    "from astropy.table import Table\n",
    "from astropy.io.ascii import convert_numpy\n",
    "sweetCat_table_url = \"https://sweetcat.iastro.pt/catalog/SWEETCAT_Dataframe.csv\"\n",
    "converters={'gaia_dr2': [convert_numpy(np.int64)],\n",
    "'gaia_dr3': [convert_numpy(np.int64)] }\n",
    "T = Table.read(sweetCat_table_url, encoding='UTF-8',\n",
    "format='csv', converters=converters)\n",
    "print(T.colnames)"
   ]
  },
  {
   "cell_type": "code",
   "execution_count": 24,
   "metadata": {},
   "outputs": [
    {
     "data": {
      "text/html": [
       "<div>\n",
       "<style scoped>\n",
       "    .dataframe tbody tr th:only-of-type {\n",
       "        vertical-align: middle;\n",
       "    }\n",
       "\n",
       "    .dataframe tbody tr th {\n",
       "        vertical-align: top;\n",
       "    }\n",
       "\n",
       "    .dataframe thead th {\n",
       "        text-align: right;\n",
       "    }\n",
       "</style>\n",
       "<table border=\"1\" class=\"dataframe\">\n",
       "  <thead>\n",
       "    <tr style=\"text-align: right;\">\n",
       "      <th></th>\n",
       "      <th>Name</th>\n",
       "      <th>RA</th>\n",
       "      <th>DEC</th>\n",
       "      <th>Gmag</th>\n",
       "      <th>Teff</th>\n",
       "    </tr>\n",
       "  </thead>\n",
       "  <tbody>\n",
       "    <tr>\n",
       "      <th>0</th>\n",
       "      <td>11 Com</td>\n",
       "      <td>12 20 43.02</td>\n",
       "      <td>+17 47 34.33</td>\n",
       "      <td>4.437300</td>\n",
       "      <td>4824.0</td>\n",
       "    </tr>\n",
       "    <tr>\n",
       "      <th>1</th>\n",
       "      <td>11 UMi</td>\n",
       "      <td>15 17 05.88</td>\n",
       "      <td>+71 49 26.04</td>\n",
       "      <td>4.556700</td>\n",
       "      <td>4314.0</td>\n",
       "    </tr>\n",
       "    <tr>\n",
       "      <th>2</th>\n",
       "      <td>14 And</td>\n",
       "      <td>23 31 17.41</td>\n",
       "      <td>+39 14 10.30</td>\n",
       "      <td>4.922200</td>\n",
       "      <td>4745.0</td>\n",
       "    </tr>\n",
       "    <tr>\n",
       "      <th>3</th>\n",
       "      <td>14 Her</td>\n",
       "      <td>16 10 24.31</td>\n",
       "      <td>+43 49 03.52</td>\n",
       "      <td>6.395200</td>\n",
       "      <td>5360.0</td>\n",
       "    </tr>\n",
       "    <tr>\n",
       "      <th>4</th>\n",
       "      <td>16 Cyg B</td>\n",
       "      <td>19 41 51.97</td>\n",
       "      <td>+50 31 03.08</td>\n",
       "      <td>6.073400</td>\n",
       "      <td>5785.0</td>\n",
       "    </tr>\n",
       "    <tr>\n",
       "      <th>...</th>\n",
       "      <td>...</td>\n",
       "      <td>...</td>\n",
       "      <td>...</td>\n",
       "      <td>...</td>\n",
       "      <td>...</td>\n",
       "    </tr>\n",
       "    <tr>\n",
       "      <th>4201</th>\n",
       "      <td>TOI-603</td>\n",
       "      <td>09 24 25.90</td>\n",
       "      <td>+05 45 58.47</td>\n",
       "      <td>10.168231</td>\n",
       "      <td>5900.0</td>\n",
       "    </tr>\n",
       "    <tr>\n",
       "      <th>4202</th>\n",
       "      <td>TOI-6651</td>\n",
       "      <td>01 03 09.24</td>\n",
       "      <td>+35 23 20.87</td>\n",
       "      <td>-1.000000</td>\n",
       "      <td>5818.0</td>\n",
       "    </tr>\n",
       "    <tr>\n",
       "      <th>4203</th>\n",
       "      <td>TOI-682</td>\n",
       "      <td>11 11 32.60</td>\n",
       "      <td>-22 04 21.18</td>\n",
       "      <td>9.746839</td>\n",
       "      <td>5085.0</td>\n",
       "    </tr>\n",
       "    <tr>\n",
       "      <th>4204</th>\n",
       "      <td>TW Hya</td>\n",
       "      <td>11 01 51.90</td>\n",
       "      <td>-34 42 17.03</td>\n",
       "      <td>10.450887</td>\n",
       "      <td>4050.0</td>\n",
       "    </tr>\n",
       "    <tr>\n",
       "      <th>4205</th>\n",
       "      <td>WIS 395</td>\n",
       "      <td>23 50 27.86</td>\n",
       "      <td>+30 21 11.73</td>\n",
       "      <td>8.859545</td>\n",
       "      <td>4257.0</td>\n",
       "    </tr>\n",
       "  </tbody>\n",
       "</table>\n",
       "<p>4206 rows × 5 columns</p>\n",
       "</div>"
      ],
      "text/plain": [
       "          Name           RA           DEC       Gmag    Teff\n",
       "0       11 Com  12 20 43.02  +17 47 34.33   4.437300  4824.0\n",
       "1       11 UMi  15 17 05.88  +71 49 26.04   4.556700  4314.0\n",
       "2       14 And  23 31 17.41  +39 14 10.30   4.922200  4745.0\n",
       "3       14 Her  16 10 24.31  +43 49 03.52   6.395200  5360.0\n",
       "4     16 Cyg B  19 41 51.97  +50 31 03.08   6.073400  5785.0\n",
       "...        ...          ...           ...        ...     ...\n",
       "4201   TOI-603  09 24 25.90  +05 45 58.47  10.168231  5900.0\n",
       "4202  TOI-6651  01 03 09.24  +35 23 20.87  -1.000000  5818.0\n",
       "4203   TOI-682  11 11 32.60  -22 04 21.18   9.746839  5085.0\n",
       "4204    TW Hya  11 01 51.90  -34 42 17.03  10.450887  4050.0\n",
       "4205   WIS 395  23 50 27.86  +30 21 11.73   8.859545  4257.0\n",
       "\n",
       "[4206 rows x 5 columns]"
      ]
     },
     "execution_count": 24,
     "metadata": {},
     "output_type": "execute_result"
    }
   ],
   "source": [
    "SC[[\"Name\", \"RA\", \"DEC\", \"Gmag\", \"Teff\"]]"
   ]
  },
  {
   "cell_type": "code",
   "execution_count": 25,
   "metadata": {},
   "outputs": [
    {
     "data": {
      "text/html": [
       "<div>\n",
       "<style scoped>\n",
       "    .dataframe tbody tr th:only-of-type {\n",
       "        vertical-align: middle;\n",
       "    }\n",
       "\n",
       "    .dataframe tbody tr th {\n",
       "        vertical-align: top;\n",
       "    }\n",
       "\n",
       "    .dataframe thead th {\n",
       "        text-align: right;\n",
       "    }\n",
       "</style>\n",
       "<table border=\"1\" class=\"dataframe\">\n",
       "  <thead>\n",
       "    <tr style=\"text-align: right;\">\n",
       "      <th></th>\n",
       "      <th>Name</th>\n",
       "      <th>hd</th>\n",
       "      <th>RA</th>\n",
       "      <th>DEC</th>\n",
       "      <th>Vmag</th>\n",
       "      <th>eVmag</th>\n",
       "      <th>PlxFlag</th>\n",
       "      <th>Teff</th>\n",
       "      <th>eTeff</th>\n",
       "      <th>Logg</th>\n",
       "      <th>...</th>\n",
       "      <th>Radius_t</th>\n",
       "      <th>eRadius_t</th>\n",
       "      <th>spec_base</th>\n",
       "      <th>Distance</th>\n",
       "      <th>RA_EU</th>\n",
       "      <th>DEC_EU</th>\n",
       "      <th>RA_NASA</th>\n",
       "      <th>DEC_NASA</th>\n",
       "      <th>Distance_b</th>\n",
       "      <th>eDistance_b</th>\n",
       "    </tr>\n",
       "  </thead>\n",
       "  <tbody>\n",
       "    <tr>\n",
       "      <th>13</th>\n",
       "      <td>51 Peg</td>\n",
       "      <td>217014</td>\n",
       "      <td>22 57 27.98</td>\n",
       "      <td>+20 46 07.79</td>\n",
       "      <td>5.46</td>\n",
       "      <td>0.05</td>\n",
       "      <td>GAIAeDR3</td>\n",
       "      <td>5810.0</td>\n",
       "      <td>21.0</td>\n",
       "      <td>4.33</td>\n",
       "      <td>...</td>\n",
       "      <td>1.155875</td>\n",
       "      <td>0.037868</td>\n",
       "      <td>51Peg_HARPSS_115000_378_691_2020</td>\n",
       "      <td>15.526793</td>\n",
       "      <td>344.3625</td>\n",
       "      <td>20.768611</td>\n",
       "      <td>344.36754</td>\n",
       "      <td>20.769096</td>\n",
       "      <td>15.514698</td>\n",
       "      <td>0.019995</td>\n",
       "    </tr>\n",
       "  </tbody>\n",
       "</table>\n",
       "<p>1 rows × 48 columns</p>\n",
       "</div>"
      ],
      "text/plain": [
       "      Name      hd           RA           DEC  Vmag  eVmag   PlxFlag    Teff  \\\n",
       "13  51 Peg  217014  22 57 27.98  +20 46 07.79  5.46   0.05  GAIAeDR3  5810.0   \n",
       "\n",
       "    eTeff  Logg  ...  Radius_t  eRadius_t                         spec_base  \\\n",
       "13   21.0  4.33  ...  1.155875   0.037868  51Peg_HARPSS_115000_378_691_2020   \n",
       "\n",
       "     Distance     RA_EU     DEC_EU    RA_NASA   DEC_NASA Distance_b  \\\n",
       "13  15.526793  344.3625  20.768611  344.36754  20.769096  15.514698   \n",
       "\n",
       "   eDistance_b  \n",
       "13    0.019995  \n",
       "\n",
       "[1 rows x 48 columns]"
      ]
     },
     "execution_count": 25,
     "metadata": {},
     "output_type": "execute_result"
    }
   ],
   "source": [
    "SC[SC[\"Name\"] == \"51 Peg\"]"
   ]
  },
  {
   "cell_type": "code",
   "execution_count": null,
   "metadata": {},
   "outputs": [],
   "source": []
  },
  {
   "cell_type": "markdown",
   "metadata": {
    "jp-MarkdownHeadingCollapsed": true
   },
   "source": [
    "### 0.1 Get planet propreties from exoplanet.eu"
   ]
  },
  {
   "cell_type": "code",
   "execution_count": 43,
   "metadata": {},
   "outputs": [],
   "source": [
    "import urllib.request\n",
    "from astropy.io import votable\n",
    "import warnings\n",
    "def downloadExoplanet(file_exo = \"exo.csv\"):\n",
    "    \"\"\"\n",
    "    Download the table of Confirmed planets from exoplanetEU and save it to a file (exo.csv).\n",
    "    Return a pandas DataFrame sorted in 'update'.\n",
    "    \"\"\"\n",
    "    response = urllib.request.urlopen(\"http://exoplanet.eu/catalog/votable\")\n",
    "    table = response.read()\n",
    "    with open('exo.xml', 'wb') as f:\n",
    "        f.write(table)\n",
    "    \"\"\"Convert the saved xml file to csv and read with pandas\"\"\"\n",
    "    with warnings.catch_warnings():\n",
    "        warnings.simplefilter(\"ignore\")\n",
    "        vo = votable.parse('exo.xml', invalid='mask', pedantic=False)\n",
    "        vo = vo.get_first_table().to_table(use_names_over_ids=True)\n",
    "        df = vo.to_pandas()\n",
    "        \n",
    "    # Divide the data in Confirmed and not.\n",
    "    df[df.planet_status == 'Confirmed'].to_csv(file_exo, index=False)"
   ]
  },
  {
   "cell_type": "code",
   "execution_count": 44,
   "metadata": {},
   "outputs": [
    {
     "ename": "TypeError",
     "evalue": "parse() got an unexpected keyword argument 'pedantic'",
     "output_type": "error",
     "traceback": [
      "\u001b[0;31m---------------------------------------------------------------------------\u001b[0m",
      "\u001b[0;31mTypeError\u001b[0m                                 Traceback (most recent call last)",
      "Cell \u001b[0;32mIn[44], line 5\u001b[0m\n\u001b[1;32m      3\u001b[0m download \u001b[38;5;241m=\u001b[39m \u001b[38;5;28;01mTrue\u001b[39;00m\n\u001b[1;32m      4\u001b[0m \u001b[38;5;28;01mif\u001b[39;00m download:\n\u001b[0;32m----> 5\u001b[0m     \u001b[43mdownloadExoplanet\u001b[49m\u001b[43m(\u001b[49m\u001b[43m)\u001b[49m\n\u001b[1;32m      6\u001b[0m exo \u001b[38;5;241m=\u001b[39m pd\u001b[38;5;241m.\u001b[39mread_csv(\u001b[38;5;124m\"\u001b[39m\u001b[38;5;124mexo.csv\u001b[39m\u001b[38;5;124m\"\u001b[39m)\n",
      "Cell \u001b[0;32mIn[43], line 16\u001b[0m, in \u001b[0;36mdownloadExoplanet\u001b[0;34m(file_exo)\u001b[0m\n\u001b[1;32m     14\u001b[0m \u001b[38;5;28;01mwith\u001b[39;00m warnings\u001b[38;5;241m.\u001b[39mcatch_warnings():\n\u001b[1;32m     15\u001b[0m     warnings\u001b[38;5;241m.\u001b[39msimplefilter(\u001b[38;5;124m\"\u001b[39m\u001b[38;5;124mignore\u001b[39m\u001b[38;5;124m\"\u001b[39m)\n\u001b[0;32m---> 16\u001b[0m     vo \u001b[38;5;241m=\u001b[39m \u001b[43mvotable\u001b[49m\u001b[38;5;241;43m.\u001b[39;49m\u001b[43mparse\u001b[49m\u001b[43m(\u001b[49m\u001b[38;5;124;43m'\u001b[39;49m\u001b[38;5;124;43mexo.xml\u001b[39;49m\u001b[38;5;124;43m'\u001b[39;49m\u001b[43m,\u001b[49m\u001b[43m \u001b[49m\u001b[43minvalid\u001b[49m\u001b[38;5;241;43m=\u001b[39;49m\u001b[38;5;124;43m'\u001b[39;49m\u001b[38;5;124;43mmask\u001b[39;49m\u001b[38;5;124;43m'\u001b[39;49m\u001b[43m,\u001b[49m\u001b[43m \u001b[49m\u001b[43mpedantic\u001b[49m\u001b[38;5;241;43m=\u001b[39;49m\u001b[38;5;28;43;01mFalse\u001b[39;49;00m\u001b[43m)\u001b[49m\n\u001b[1;32m     17\u001b[0m     vo \u001b[38;5;241m=\u001b[39m vo\u001b[38;5;241m.\u001b[39mget_first_table()\u001b[38;5;241m.\u001b[39mto_table(use_names_over_ids\u001b[38;5;241m=\u001b[39m\u001b[38;5;28;01mTrue\u001b[39;00m)\n\u001b[1;32m     18\u001b[0m     df \u001b[38;5;241m=\u001b[39m vo\u001b[38;5;241m.\u001b[39mto_pandas()\n",
      "\u001b[0;31mTypeError\u001b[0m: parse() got an unexpected keyword argument 'pedantic'"
     ]
    }
   ],
   "source": [
    "## We also provide teh exo.csv file taken from the last SWEET-Cat update\n",
    "#\n",
    "download = True\n",
    "if download:\n",
    "    downloadExoplanet()\n",
    "exo = pd.read_csv(\"exo.csv\")"
   ]
  },
  {
   "cell_type": "code",
   "execution_count": 52,
   "metadata": {},
   "outputs": [
    {
     "ename": "NameError",
     "evalue": "name 'exo' is not defined",
     "output_type": "error",
     "traceback": [
      "\u001b[0;31m---------------------------------------------------------------------------\u001b[0m",
      "\u001b[0;31mNameError\u001b[0m                                 Traceback (most recent call last)",
      "Cell \u001b[0;32mIn[52], line 1\u001b[0m\n\u001b[0;32m----> 1\u001b[0m \u001b[43mexo\u001b[49m\u001b[38;5;241m.\u001b[39mcolumns\n",
      "\u001b[0;31mNameError\u001b[0m: name 'exo' is not defined"
     ]
    }
   ],
   "source": [
    "exo.columns"
   ]
  },
  {
   "cell_type": "code",
   "execution_count": 32,
   "metadata": {},
   "outputs": [
    {
     "ename": "NameError",
     "evalue": "name 'exo' is not defined",
     "output_type": "error",
     "traceback": [
      "\u001b[0;31m---------------------------------------------------------------------------\u001b[0m",
      "\u001b[0;31mNameError\u001b[0m                                 Traceback (most recent call last)",
      "Cell \u001b[0;32mIn[32], line 6\u001b[0m\n\u001b[1;32m      1\u001b[0m \u001b[38;5;66;03m#Getting coordinates matching\u001b[39;00m\n\u001b[1;32m      2\u001b[0m coordSCEU \u001b[38;5;241m=\u001b[39m coord\u001b[38;5;241m.\u001b[39mSkyCoord(ra\u001b[38;5;241m=\u001b[39mSC[\u001b[38;5;124m'\u001b[39m\u001b[38;5;124mRA_EU\u001b[39m\u001b[38;5;124m'\u001b[39m]\u001b[38;5;241m.\u001b[39mvalues,\n\u001b[1;32m      3\u001b[0m                          dec\u001b[38;5;241m=\u001b[39mSC[\u001b[38;5;124m'\u001b[39m\u001b[38;5;124mDEC_EU\u001b[39m\u001b[38;5;124m'\u001b[39m]\u001b[38;5;241m.\u001b[39mvalues,\n\u001b[1;32m      4\u001b[0m                          unit\u001b[38;5;241m=\u001b[39m(u\u001b[38;5;241m.\u001b[39mdeg, u\u001b[38;5;241m.\u001b[39mdeg),\n\u001b[1;32m      5\u001b[0m                          frame\u001b[38;5;241m=\u001b[39m\u001b[38;5;124m'\u001b[39m\u001b[38;5;124micrs\u001b[39m\u001b[38;5;124m'\u001b[39m)\n\u001b[0;32m----> 6\u001b[0m coordExo \u001b[38;5;241m=\u001b[39m coord\u001b[38;5;241m.\u001b[39mSkyCoord(ra\u001b[38;5;241m=\u001b[39m\u001b[43mexo\u001b[49m[\u001b[38;5;124m'\u001b[39m\u001b[38;5;124mra\u001b[39m\u001b[38;5;124m'\u001b[39m]\u001b[38;5;241m.\u001b[39mvalues,\n\u001b[1;32m      7\u001b[0m                         dec\u001b[38;5;241m=\u001b[39mexo[\u001b[38;5;124m'\u001b[39m\u001b[38;5;124mdec\u001b[39m\u001b[38;5;124m'\u001b[39m]\u001b[38;5;241m.\u001b[39mvalues,\n\u001b[1;32m      8\u001b[0m                         unit\u001b[38;5;241m=\u001b[39m(u\u001b[38;5;241m.\u001b[39mdeg, u\u001b[38;5;241m.\u001b[39mdeg),\n\u001b[1;32m      9\u001b[0m                         frame\u001b[38;5;241m=\u001b[39m\u001b[38;5;124m'\u001b[39m\u001b[38;5;124micrs\u001b[39m\u001b[38;5;124m'\u001b[39m)\n",
      "\u001b[0;31mNameError\u001b[0m: name 'exo' is not defined"
     ]
    }
   ],
   "source": [
    "#Getting coordinates matching\n",
    "coordSCEU = coord.SkyCoord(ra=SC['RA_EU'].values,\n",
    "                         dec=SC['DEC_EU'].values,\n",
    "                         unit=(u.deg, u.deg),\n",
    "                         frame='icrs')\n",
    "coordExo = coord.SkyCoord(ra=exo['ra'].values,\n",
    "                        dec=exo['dec'].values,\n",
    "                        unit=(u.deg, u.deg),\n",
    "                        frame='icrs')"
   ]
  },
  {
   "cell_type": "code",
   "execution_count": 53,
   "metadata": {
    "scrolled": true
   },
   "outputs": [
    {
     "name": "stdout",
     "output_type": "stream",
     "text": [
      "2322\n"
     ]
    },
    {
     "ename": "NameError",
     "evalue": "name 'coordExo' is not defined",
     "output_type": "error",
     "traceback": [
      "\u001b[0;31m---------------------------------------------------------------------------\u001b[0m",
      "\u001b[0;31mNameError\u001b[0m                                 Traceback (most recent call last)",
      "Cell \u001b[0;32mIn[53], line 15\u001b[0m\n\u001b[1;32m     13\u001b[0m         \u001b[38;5;28mprint\u001b[39m (\u001b[38;5;124m\"\u001b[39m\u001b[38;5;124mNo EU planets in Database\u001b[39m\u001b[38;5;124m\"\u001b[39m)\n\u001b[1;32m     14\u001b[0m     \u001b[38;5;28;01mreturn\u001b[39;00m outres\n\u001b[0;32m---> 15\u001b[0m planets \u001b[38;5;241m=\u001b[39m \u001b[43mget_planets_for_SC_star\u001b[49m\u001b[43m(\u001b[49m\u001b[43mSCind\u001b[49m\u001b[43m)\u001b[49m[[\u001b[38;5;124m\"\u001b[39m\u001b[38;5;124mname\u001b[39m\u001b[38;5;124m\"\u001b[39m, \u001b[38;5;124m\"\u001b[39m\u001b[38;5;124mmass\u001b[39m\u001b[38;5;124m\"\u001b[39m, \u001b[38;5;124m\"\u001b[39m\u001b[38;5;124mmass_sini\u001b[39m\u001b[38;5;124m\"\u001b[39m,\u001b[38;5;124m\"\u001b[39m\u001b[38;5;124mradius\u001b[39m\u001b[38;5;124m\"\u001b[39m, \u001b[38;5;124m\"\u001b[39m\u001b[38;5;124msemi_major_axis\u001b[39m\u001b[38;5;124m\"\u001b[39m, \u001b[38;5;124m\"\u001b[39m\u001b[38;5;124meccentricity\u001b[39m\u001b[38;5;124m\"\u001b[39m]]\n\u001b[1;32m     16\u001b[0m planets\n",
      "Cell \u001b[0;32mIn[53], line 8\u001b[0m, in \u001b[0;36mget_planets_for_SC_star\u001b[0;34m(SCind)\u001b[0m\n\u001b[1;32m      6\u001b[0m outres \u001b[38;5;241m=\u001b[39m []\n\u001b[1;32m      7\u001b[0m \u001b[38;5;28;01mif\u001b[39;00m \u001b[38;5;124m\"\u001b[39m\u001b[38;5;124mEU\u001b[39m\u001b[38;5;124m\"\u001b[39m \u001b[38;5;129;01min\u001b[39;00m SC\u001b[38;5;241m.\u001b[39mDatabase[SCind]:\n\u001b[0;32m----> 8\u001b[0m     sep \u001b[38;5;241m=\u001b[39m coordSCEU[SCind]\u001b[38;5;241m.\u001b[39mseparation(\u001b[43mcoordExo\u001b[49m)\u001b[38;5;241m.\u001b[39marcsecond\n\u001b[1;32m      9\u001b[0m     ind \u001b[38;5;241m=\u001b[39m np\u001b[38;5;241m.\u001b[39mwhere(sep \u001b[38;5;241m<\u001b[39m\u001b[38;5;241m=\u001b[39m np\u001b[38;5;241m.\u001b[39mnanmin(sep))[\u001b[38;5;241m0\u001b[39m]\n\u001b[1;32m     10\u001b[0m     \u001b[38;5;28;01mif\u001b[39;00m \u001b[38;5;28mlen\u001b[39m(ind) \u001b[38;5;241m>\u001b[39m \u001b[38;5;241m0\u001b[39m:\n",
      "\u001b[0;31mNameError\u001b[0m: name 'coordExo' is not defined"
     ]
    }
   ],
   "source": [
    "SCind = np.where(SC.Name == \"mu Ara\")[0][0]\n",
    "print(SCind)\n",
    "#SCind = 3001\n",
    "\n",
    "def get_planets_for_SC_star(SCind):\n",
    "    outres = []\n",
    "    if \"EU\" in SC.Database[SCind]:\n",
    "        sep = coordSCEU[SCind].separation(coordExo).arcsecond\n",
    "        ind = np.where(sep <= np.nanmin(sep))[0]\n",
    "        if len(ind) > 0:\n",
    "            outres = exo.loc[ind].reset_index()\n",
    "    else:\n",
    "        print (\"No EU planets in Database\")\n",
    "    return outres\n",
    "planets = get_planets_for_SC_star(SCind)[[\"name\", \"mass\", \"mass_sini\",\"radius\", \"semi_major_axis\", \"eccentricity\"]]\n",
    "planets"
   ]
  },
  {
   "cell_type": "code",
   "execution_count": 54,
   "metadata": {},
   "outputs": [
    {
     "ename": "NameError",
     "evalue": "name 'planets' is not defined",
     "output_type": "error",
     "traceback": [
      "\u001b[0;31m---------------------------------------------------------------------------\u001b[0m",
      "\u001b[0;31mNameError\u001b[0m                                 Traceback (most recent call last)",
      "Cell \u001b[0;32mIn[54], line 1\u001b[0m\n\u001b[0;32m----> 1\u001b[0m \u001b[43mplanets\u001b[49m\u001b[38;5;241m.\u001b[39mcolumns\n",
      "\u001b[0;31mNameError\u001b[0m: name 'planets' is not defined"
     ]
    }
   ],
   "source": [
    "planets.columns"
   ]
  },
  {
   "cell_type": "markdown",
   "metadata": {
    "jp-MarkdownHeadingCollapsed": true
   },
   "source": [
    "### 0.2 Get planet propreties from NASA Exoplanets Archive"
   ]
  },
  {
   "cell_type": "code",
   "execution_count": 45,
   "metadata": {},
   "outputs": [],
   "source": [
    "def downloadNasaExoplanetNew():\n",
    "    \"\"\"\n",
    "    Download the table from NASA exoplanet archive\n",
    "    and save it to a file (nasaexo.csv).\n",
    "    \"\"\"\n",
    "    nasa_url = \"https://exoplanetarchive.ipac.caltech.edu/TAP/sync?query=select+*+from+ps+where+default_flag=1&format=csv\"\n",
    "    \n",
    "    # Download the data\n",
    "    response = urllib.request.urlopen(nasa_url)\n",
    "    table = response.read()\n",
    "    \n",
    "    # Write the NASA exoplanet archive\n",
    "    with open('nasaexo.csv', 'wb') as f:\n",
    "        f.write(table)"
   ]
  },
  {
   "cell_type": "code",
   "execution_count": 46,
   "metadata": {},
   "outputs": [],
   "source": [
    "## We also provide teh exo.csv file taken from the last SWEET-Cat update\n",
    "#\n",
    "download = True\n",
    "if download:\n",
    "    downloadNasaExoplanetNew()\n",
    "nasa = pd.read_csv(\"nasaexo.csv\", low_memory=False)"
   ]
  },
  {
   "cell_type": "code",
   "execution_count": 47,
   "metadata": {},
   "outputs": [
    {
     "name": "stdout",
     "output_type": "stream",
     "text": [
      "pl_name\n",
      "pl_letter\n",
      "hostname\n",
      "hd_name\n",
      "hip_name\n",
      "tic_id\n",
      "gaia_id\n",
      "default_flag\n",
      "pl_refname\n",
      "sy_refname\n"
     ]
    }
   ],
   "source": [
    "[print(c) for c in nasa.columns[0:10]];"
   ]
  },
  {
   "cell_type": "code",
   "execution_count": 48,
   "metadata": {},
   "outputs": [],
   "source": [
    "#Getting coordinates matching\n",
    "coordSCNASA = coord.SkyCoord(ra=SC['RA_NASA'].values,\n",
    "                            dec=SC['DEC_NASA'].values,\n",
    "                            unit=(u.deg, u.deg),\n",
    "                            frame='icrs')\n",
    "coordNasa = coord.SkyCoord(ra=nasa['ra'].values,\n",
    "                             dec=nasa['dec'].values,\n",
    "                             unit=(u.deg, u.deg),\n",
    "                             frame='icrs')"
   ]
  },
  {
   "cell_type": "code",
   "execution_count": 50,
   "metadata": {},
   "outputs": [
    {
     "name": "stdout",
     "output_type": "stream",
     "text": [
      "2322\n"
     ]
    },
    {
     "data": {
      "text/html": [
       "<div>\n",
       "<style scoped>\n",
       "    .dataframe tbody tr th:only-of-type {\n",
       "        vertical-align: middle;\n",
       "    }\n",
       "\n",
       "    .dataframe tbody tr th {\n",
       "        vertical-align: top;\n",
       "    }\n",
       "\n",
       "    .dataframe thead th {\n",
       "        text-align: right;\n",
       "    }\n",
       "</style>\n",
       "<table border=\"1\" class=\"dataframe\">\n",
       "  <thead>\n",
       "    <tr style=\"text-align: right;\">\n",
       "      <th></th>\n",
       "      <th>pl_name</th>\n",
       "      <th>pl_massj</th>\n",
       "      <th>pl_msinij</th>\n",
       "      <th>pl_radj</th>\n",
       "      <th>pl_orbsmax</th>\n",
       "      <th>pl_orbeccen</th>\n",
       "    </tr>\n",
       "  </thead>\n",
       "  <tbody>\n",
       "    <tr>\n",
       "      <th>0</th>\n",
       "      <td>HD 160691 b</td>\n",
       "      <td>4.3</td>\n",
       "      <td>NaN</td>\n",
       "      <td>NaN</td>\n",
       "      <td>NaN</td>\n",
       "      <td>NaN</td>\n",
       "    </tr>\n",
       "    <tr>\n",
       "      <th>1</th>\n",
       "      <td>HD 160691 c</td>\n",
       "      <td>4.4</td>\n",
       "      <td>NaN</td>\n",
       "      <td>NaN</td>\n",
       "      <td>NaN</td>\n",
       "      <td>NaN</td>\n",
       "    </tr>\n",
       "    <tr>\n",
       "      <th>2</th>\n",
       "      <td>HD 160691 d</td>\n",
       "      <td>NaN</td>\n",
       "      <td>NaN</td>\n",
       "      <td>NaN</td>\n",
       "      <td>NaN</td>\n",
       "      <td>NaN</td>\n",
       "    </tr>\n",
       "    <tr>\n",
       "      <th>3</th>\n",
       "      <td>HD 160691 e</td>\n",
       "      <td>7.0</td>\n",
       "      <td>NaN</td>\n",
       "      <td>NaN</td>\n",
       "      <td>NaN</td>\n",
       "      <td>NaN</td>\n",
       "    </tr>\n",
       "  </tbody>\n",
       "</table>\n",
       "</div>"
      ],
      "text/plain": [
       "       pl_name  pl_massj  pl_msinij  pl_radj  pl_orbsmax  pl_orbeccen\n",
       "0  HD 160691 b       4.3        NaN      NaN         NaN          NaN\n",
       "1  HD 160691 c       4.4        NaN      NaN         NaN          NaN\n",
       "2  HD 160691 d       NaN        NaN      NaN         NaN          NaN\n",
       "3  HD 160691 e       7.0        NaN      NaN         NaN          NaN"
      ]
     },
     "execution_count": 50,
     "metadata": {},
     "output_type": "execute_result"
    }
   ],
   "source": [
    "SCind = np.where(SC.Name == \"mu Ara\")[0][0]\n",
    "print(SCind)\n",
    "#SCind = 3001\n",
    "def get_planets_for_SC_star_NASA(SCind):\n",
    "    outres = []\n",
    "    if \"NASA\" in SC.Database[SCind]:\n",
    "        sep = coordSCNASA[SCind].separation(coordNasa).arcsecond\n",
    "        ind = np.where(sep <= np.nanmin(sep))[0]\n",
    "    if len(ind) > 0:\n",
    "        outres = nasa.loc[ind].reset_index()\n",
    "    else:\n",
    "        print (\"No EU planets in Database\")\n",
    "    return outres\n",
    "planets_nasa = get_planets_for_SC_star_NASA(SCind)[[\"pl_name\", \"pl_massj\",\"pl_msinij\", \"pl_radj\", \"pl_orbsmax\", \"pl_orbeccen\"]]\n",
    "planets_nasa"
   ]
  },
  {
   "cell_type": "markdown",
   "metadata": {},
   "source": [
    "#### 0.2.1 Plot Planetary System"
   ]
  },
  {
   "cell_type": "code",
   "execution_count": 51,
   "metadata": {},
   "outputs": [
    {
     "ename": "NameError",
     "evalue": "name 'planets' is not defined",
     "output_type": "error",
     "traceback": [
      "\u001b[0;31m---------------------------------------------------------------------------\u001b[0m",
      "\u001b[0;31mNameError\u001b[0m                                 Traceback (most recent call last)",
      "Cell \u001b[0;32mIn[51], line 10\u001b[0m\n\u001b[1;32m      7\u001b[0m ax \u001b[38;5;241m=\u001b[39m fig\u001b[38;5;241m.\u001b[39madd_subplot(\u001b[38;5;241m111\u001b[39m, projection\u001b[38;5;241m=\u001b[39m\u001b[38;5;124m'\u001b[39m\u001b[38;5;124mpolar\u001b[39m\u001b[38;5;124m'\u001b[39m)\n\u001b[1;32m      8\u001b[0m \u001b[38;5;66;03m#ax.set_rorigin(-1)\u001b[39;00m\n\u001b[0;32m---> 10\u001b[0m \u001b[38;5;28;01mfor\u001b[39;00m p \u001b[38;5;129;01min\u001b[39;00m \u001b[38;5;28mrange\u001b[39m(\u001b[38;5;28mlen\u001b[39m(\u001b[43mplanets\u001b[49m)):\n\u001b[1;32m     11\u001b[0m     a \u001b[38;5;241m=\u001b[39m planets\u001b[38;5;241m.\u001b[39msemi_major_axis[p]\n\u001b[1;32m     12\u001b[0m     e \u001b[38;5;241m=\u001b[39m planets\u001b[38;5;241m.\u001b[39meccentricity[p]\n",
      "\u001b[0;31mNameError\u001b[0m: name 'planets' is not defined"
     ]
    },
    {
     "data": {
      "image/png": "[encoded data removed]",
      "text/plain": [
       "<Figure size 1200x700 with 1 Axes>"
      ]
     },
     "metadata": {},
     "output_type": "display_data"
    }
   ],
   "source": [
    "import matplotlib.pyplot as plt #Imports plot library\n",
    "cos = np.cos\n",
    "pi = np.pi\n",
    "\n",
    "\n",
    "fig = plt.figure(1, figsize=(12, 7),facecolor='black')\n",
    "ax = fig.add_subplot(111, projection='polar')\n",
    "#ax.set_rorigin(-1)\n",
    "\n",
    "for p in range(len(planets)):\n",
    "    a = planets.semi_major_axis[p]\n",
    "    e = planets.eccentricity[p]\n",
    "    theta = np.linspace(0,2*pi, 360)\n",
    "    r = (a*(1-e**2))/(1+e*cos(theta))\n",
    "    plt.polar(theta, r, c='y', linestyle=\"--\")\n",
    "#ax.yaxis.grid(False)\n",
    "ax.xaxis.grid(False)\n",
    "ax.set_xticklabels([])\n",
    "ax.set_facecolor('k')\n",
    "ax.grid(color='gray', linestyle='--', linewidth=0.75)\n",
    "ax.spines['polar'].set_visible(False)\n",
    "[t.set_color('white') for t in ax.yaxis.get_ticklabels()]\n",
    "#ax.set_rlim(0)\n",
    "#ax.set_rscale('symlog')\n",
    "#print(np.c_[r,theta])\n",
    "#ax.plot(0, 0, 'y', markersize=10000, markerfacecolor='m', markeredgecolor='k')\n",
    "plt.show()"
   ]
  },
  {
   "cell_type": "code",
   "execution_count": null,
   "metadata": {},
   "outputs": [],
   "source": []
  }
 ],
 "metadata": {
  "kernelspec": {
   "display_name": "Python 3 (ipykernel)",
   "language": "python",
   "name": "python3"
  },
  "language_info": {
   "codemirror_mode": {
    "name": "ipython",
    "version": 3
   },
   "file_extension": ".py",
   "mimetype": "text/x-python",
   "name": "python",
   "nbconvert_exporter": "python",
   "pygments_lexer": "ipython3",
   "version": "3.10.16"
  }
 },
 "nbformat": 4,
 "nbformat_minor": 4
}
