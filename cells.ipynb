{
 "cells": [
  {
   "cell_type": "code",
   "execution_count": 1,
   "id": "b882ee1f-0e19-4c4b-9043-2447605ec81b",
   "metadata": {},
   "outputs": [
    {
     "name": "stdout",
     "output_type": "stream",
     "text": [
      "hello world\n"
     ]
    }
   ],
   "source": [
    "#%%\n",
    "\n",
    "# this is a comment\n",
    "print('hello world')"
   ]
  },
  {
   "cell_type": "code",
   "execution_count": 2,
   "id": "83d9f2bd-669f-41a5-930f-fc9299f4073c",
   "metadata": {},
   "outputs": [
    {
     "name": "stdout",
     "output_type": "stream",
     "text": [
      "10\n"
     ]
    }
   ],
   "source": [
    "#%%\n",
    "\n",
    "# this is another comment\n",
    "x = 2\n",
    "y = 5\n",
    "print(x * y)"
   ]
  },
  {
   "cell_type": "code",
   "execution_count": 3,
   "id": "e2a138b3-7360-4b7a-8c3c-1fced205d2b5",
   "metadata": {},
   "outputs": [],
   "source": [
    "# %%\n",
    "\n",
    "name='simao_coelho'"
   ]
  }
 ],
 "metadata": {
  "kernelspec": {
   "display_name": "astro-project-2025-env",
   "language": "python",
   "name": "python3"
  },
  "language_info": {
   "codemirror_mode": {
    "name": "ipython",
    "version": 3
   },
   "file_extension": ".py",
   "mimetype": "text/x-python",
   "name": "python",
   "nbconvert_exporter": "python",
   "pygments_lexer": "ipython3",
   "version": "3.10.16"
  }
 },
 "nbformat": 4,
 "nbformat_minor": 2
}
